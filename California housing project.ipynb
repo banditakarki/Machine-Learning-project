{
 "cells": [
  {
   "cell_type": "code",
   "execution_count": 1,
   "id": "bc11f3a3",
   "metadata": {},
   "outputs": [],
   "source": [
    "#importing the required libraries\n",
    "import numpy as np\n",
    "import matplotlib.pyplot as plt\n",
    "import seaborn as sn\n",
    "from sklearn.model_selection import train_test_split"
   ]
  },
  {
   "cell_type": "code",
   "execution_count": 2,
   "id": "ec1d8bdf",
   "metadata": {},
   "outputs": [],
   "source": [
    "#importing and reading the dataset\n",
    "from sklearn.datasets import fetch_california_housing\n",
    "\n",
    "housing_data = fetch_california_housing(as_frame=True)"
   ]
  },
  {
   "cell_type": "code",
   "execution_count": 3,
   "id": "c60e6afe",
   "metadata": {},
   "outputs": [
    {
     "name": "stdout",
     "output_type": "stream",
     "text": [
      "   MedInc  HouseAge  AveRooms  AveBedrms  Population  AveOccup  Latitude  \\\n",
      "0  8.3252      41.0  6.984127   1.023810       322.0  2.555556     37.88   \n",
      "1  8.3014      21.0  6.238137   0.971880      2401.0  2.109842     37.86   \n",
      "2  7.2574      52.0  8.288136   1.073446       496.0  2.802260     37.85   \n",
      "3  5.6431      52.0  5.817352   1.073059       558.0  2.547945     37.85   \n",
      "4  3.8462      52.0  6.281853   1.081081       565.0  2.181467     37.85   \n",
      "\n",
      "   Longitude  MedHouseVal  \n",
      "0    -122.23        4.526  \n",
      "1    -122.22        3.585  \n",
      "2    -122.24        3.521  \n",
      "3    -122.25        3.413  \n",
      "4    -122.25        3.422  \n",
      "(20640, 9)\n"
     ]
    }
   ],
   "source": [
    "#print the head of the dataset\n",
    "print(housing_data.frame.head())\n",
    "\n",
    "#print the dimension of the dataset\n",
    "print(housing_data.frame.shape)"
   ]
  },
  {
   "cell_type": "code",
   "execution_count": 4,
   "id": "b87c43ea",
   "metadata": {},
   "outputs": [
    {
     "name": "stdout",
     "output_type": "stream",
     "text": [
      ".. _california_housing_dataset:\n",
      "\n",
      "California Housing dataset\n",
      "--------------------------\n",
      "\n",
      "**Data Set Characteristics:**\n",
      "\n",
      "    :Number of Instances: 20640\n",
      "\n",
      "    :Number of Attributes: 8 numeric, predictive attributes and the target\n",
      "\n",
      "    :Attribute Information:\n",
      "        - MedInc        median income in block group\n",
      "        - HouseAge      median house age in block group\n",
      "        - AveRooms      average number of rooms per household\n",
      "        - AveBedrms     average number of bedrooms per household\n",
      "        - Population    block group population\n",
      "        - AveOccup      average number of household members\n",
      "        - Latitude      block group latitude\n",
      "        - Longitude     block group longitude\n",
      "\n",
      "    :Missing Attribute Values: None\n",
      "\n",
      "This dataset was obtained from the StatLib repository.\n",
      "https://www.dcc.fc.up.pt/~ltorgo/Regression/cal_housing.html\n",
      "\n",
      "The target variable is the median house value for California districts,\n",
      "expressed in hundreds of thousands of dollars ($100,000).\n",
      "\n",
      "This dataset was derived from the 1990 U.S. census, using one row per census\n",
      "block group. A block group is the smallest geographical unit for which the U.S.\n",
      "Census Bureau publishes sample data (a block group typically has a population\n",
      "of 600 to 3,000 people).\n",
      "\n",
      "An household is a group of people residing within a home. Since the average\n",
      "number of rooms and bedrooms in this dataset are provided per household, these\n",
      "columns may take surpinsingly large values for block groups with few households\n",
      "and many empty houses, such as vacation resorts.\n",
      "\n",
      "It can be downloaded/loaded using the\n",
      ":func:`sklearn.datasets.fetch_california_housing` function.\n",
      "\n",
      ".. topic:: References\n",
      "\n",
      "    - Pace, R. Kelley and Ronald Barry, Sparse Spatial Autoregressions,\n",
      "      Statistics and Probability Letters, 33 (1997) 291-297\n",
      "\n"
     ]
    }
   ],
   "source": [
    "#description of the dataset\n",
    "print(housing_data.DESCR)"
   ]
  },
  {
   "cell_type": "code",
   "execution_count": 5,
   "id": "cdd318b4",
   "metadata": {},
   "outputs": [
    {
     "name": "stdout",
     "output_type": "stream",
     "text": [
      "               MedInc  HouseAge  AveRooms  AveBedrms  Population  AveOccup  \\\n",
      "MedInc       1.000000 -0.119034  0.326895  -0.062040    0.004834  0.018766   \n",
      "HouseAge    -0.119034  1.000000 -0.153277  -0.077747   -0.296244  0.013191   \n",
      "AveRooms     0.326895 -0.153277  1.000000   0.847621   -0.072213 -0.004852   \n",
      "AveBedrms   -0.062040 -0.077747  0.847621   1.000000   -0.066197 -0.006181   \n",
      "Population   0.004834 -0.296244 -0.072213  -0.066197    1.000000  0.069863   \n",
      "AveOccup     0.018766  0.013191 -0.004852  -0.006181    0.069863  1.000000   \n",
      "Latitude    -0.079809  0.011173  0.106389   0.069721   -0.108785  0.002366   \n",
      "Longitude   -0.015176 -0.108197 -0.027540   0.013344    0.099773  0.002476   \n",
      "MedHouseVal  0.688075  0.105623  0.151948  -0.046701   -0.024650 -0.023737   \n",
      "\n",
      "             Latitude  Longitude  MedHouseVal  \n",
      "MedInc      -0.079809  -0.015176     0.688075  \n",
      "HouseAge     0.011173  -0.108197     0.105623  \n",
      "AveRooms     0.106389  -0.027540     0.151948  \n",
      "AveBedrms    0.069721   0.013344    -0.046701  \n",
      "Population  -0.108785   0.099773    -0.024650  \n",
      "AveOccup     0.002366   0.002476    -0.023737  \n",
      "Latitude     1.000000  -0.924664    -0.144160  \n",
      "Longitude   -0.924664   1.000000    -0.045967  \n",
      "MedHouseVal -0.144160  -0.045967     1.000000  \n"
     ]
    }
   ],
   "source": [
    "#create a correlation matrix\n",
    "housing_data_corr = housing_data.frame.corr()\n",
    "print(housing_data_corr)"
   ]
  },
  {
   "cell_type": "code",
   "execution_count": 6,
   "id": "1b47803a",
   "metadata": {
    "scrolled": true
   },
   "outputs": [
    {
     "data": {
      "image/png": "[encoded data removed]",
      "text/plain": [
       "<Figure size 432x288 with 2 Axes>"
      ]
     },
     "metadata": {
      "needs_background": "light"
     },
     "output_type": "display_data"
    }
   ],
   "source": [
    "#Plot the correlation matrix\n",
    "sn.heatmap(abs(housing_data_corr), annot=True)\n",
    "plt.title(\"Correlation Matrix Heatmap\", fontsize = 20)\n",
    "plt.show()"
   ]
  },
  {
   "cell_type": "code",
   "execution_count": 7,
   "id": "1519e217",
   "metadata": {},
   "outputs": [
    {
     "data": {
      "text/plain": [
       "<matplotlib.colorbar.Colorbar at 0x1fed7132220>"
      ]
     },
     "execution_count": 7,
     "metadata": {},
     "output_type": "execute_result"
    },
    {
     "data": {
      "image/png": "[encoded data removed]",
      "text/plain": [
       "<Figure size 432x288 with 2 Axes>"
      ]
     },
     "metadata": {
      "needs_background": "light"
     },
     "output_type": "display_data"
    }
   ],
   "source": [
    "#Plot a 2-D histogram\n",
    "plt.hist2d(housing_data.frame.MedInc,housing_data.frame.MedHouseVal)\n",
    "plt.title(\"Median Income and Median Housing Value in California\", fontsize = 20)\n",
    "plt.xlabel(\"Median Income\")\n",
    "plt.ylabel(\"Median Housing Value\")\n",
    "plt.colorbar(label = \"Frequency\")"
   ]
  },
  {
   "cell_type": "code",
   "execution_count": 8,
   "id": "4e09a219",
   "metadata": {},
   "outputs": [],
   "source": [
    "#specify x and y\n",
    "x = housing_data.frame.Longitude\n",
    "y = housing_data.frame.Latitude"
   ]
  },
  {
   "cell_type": "code",
   "execution_count": 9,
   "id": "ebc49184",
   "metadata": {
    "scrolled": true
   },
   "outputs": [
    {
     "data": {
      "text/plain": [
       "<matplotlib.colorbar.Colorbar at 0x1fed71f35e0>"
      ]
     },
     "execution_count": 9,
     "metadata": {},
     "output_type": "execute_result"
    },
    {
     "data": {
      "image/png": "[encoded data removed]",
      "text/plain": [
       "<Figure size 432x288 with 2 Axes>"
      ]
     },
     "metadata": {
      "needs_background": "light"
     },
     "output_type": "display_data"
    }
   ],
   "source": [
    "#Scatterplot for the housing value based on the region\n",
    "plt.scatter(x,y, s = housing_data.frame.MedHouseVal, c = housing_data.frame.MedHouseVal, cmap = \"Wistia\")\n",
    "plt.title(\"Median Housing Value in California\", fontsize = 20)\n",
    "plt.xlabel(\"Longitude\")\n",
    "plt.ylabel(\"Latitude\")\n",
    "plt.colorbar(label = 'Median Housing Value')\n"
   ]
  },
  {
   "cell_type": "code",
   "execution_count": 10,
   "id": "01c969f8",
   "metadata": {},
   "outputs": [
    {
     "data": {
      "text/plain": [
       "(20640,)"
      ]
     },
     "execution_count": 10,
     "metadata": {},
     "output_type": "execute_result"
    }
   ],
   "source": [
    "#specify dependent and independent variable\n",
    "X = housing_data.data\n",
    "X.shape\n",
    "y = housing_data.target\n",
    "y.shape"
   ]
  },
  {
   "cell_type": "code",
   "execution_count": 11,
   "id": "64577c8a",
   "metadata": {},
   "outputs": [],
   "source": [
    "#split the data into train and test set\n",
    "X_train, X_test, y_train, y_test = train_test_split(X, y, test_size = 0.3, random_state = 0)"
   ]
  },
  {
   "cell_type": "code",
   "execution_count": 12,
   "id": "8eb89c52",
   "metadata": {},
   "outputs": [],
   "source": [
    "#import the mean squared error function\n",
    "from sklearn.metrics import mean_squared_error as mse, r2_score as r_2\n",
    "\n",
    "#create a function to print the prediction result\n",
    "def regression_metrics(y_train, y_train_pred, y_test, y_test_pred):\n",
    "    print('MSE Train: ', round(mse(y_train, y_train_pred), 3))\n",
    "    print('MSE Test: ', round(mse(y_test, y_test_pred), 3))\n",
    "\n",
    "    print('R^2 Train: ', round(r_2(y_train, y_train_pred), 3))\n",
    "    print('R^2 Test: ', round(r_2(y_test, y_test_pred), 3))"
   ]
  },
  {
   "cell_type": "code",
   "execution_count": 13,
   "id": "d9dd520a",
   "metadata": {},
   "outputs": [
    {
     "name": "stdout",
     "output_type": "stream",
     "text": [
      "MSE Train:  0.517\n",
      "MSE Test:  0.543\n",
      "R^2 Train:  0.611\n",
      "R^2 Test:  0.593\n"
     ]
    }
   ],
   "source": [
    "#2.1 ordinary least squares(OLS)\n",
    "from sklearn.linear_model import LinearRegression # OLS\n",
    "\n",
    "# create an OLS model\n",
    "slr = LinearRegression()\n",
    "\n",
    "# train the model\n",
    "slr.fit(X_train, y_train)\n",
    "\n",
    "#evaluation \n",
    "y_train_pred = slr.predict(X_train)\n",
    "y_test_pred = slr.predict(X_test)\n",
    "regression_metrics(y_train, y_train_pred, y_test, y_test_pred)"
   ]
  },
  {
   "cell_type": "code",
   "execution_count": 14,
   "id": "ff3f745c",
   "metadata": {},
   "outputs": [
    {
     "data": {
      "text/plain": [
       "array([ 4.46773975e-01,  9.18409990e-03, -1.18116775e-01,  6.42290879e-01,\n",
       "       -9.37026507e-06, -4.08535934e-03, -4.09023312e-01, -4.23419564e-01])"
      ]
     },
     "execution_count": 14,
     "metadata": {},
     "output_type": "execute_result"
    }
   ],
   "source": [
    "# w1, w2, ..., w13: weights of the 13 features in the linear model\n",
    "#  if the weight is negative, the corresponding feature contribute negatively to the median housing value\n",
    "slr.coef_"
   ]
  },
  {
   "cell_type": "code",
   "execution_count": 15,
   "id": "7fe0457a",
   "metadata": {},
   "outputs": [
    {
     "data": {
      "text/plain": [
       "-36.012228887652334"
      ]
     },
     "execution_count": 15,
     "metadata": {},
     "output_type": "execute_result"
    }
   ],
   "source": [
    "#w0\n",
    "slr.intercept_"
   ]
  },
  {
   "cell_type": "code",
   "execution_count": 16,
   "id": "c1f85913",
   "metadata": {},
   "outputs": [
    {
     "data": {
      "text/plain": [
       "GridSearchCV(cv=5, estimator=Ridge(),\n",
       "             param_grid=[{'alpha': [0.1, 0.5, 1, 5, 10, 20, 30, 40, 50, 100,\n",
       "                                    150, 200]}])"
      ]
     },
     "execution_count": 16,
     "metadata": {},
     "output_type": "execute_result"
    }
   ],
   "source": [
    "#Ridge regularization\n",
    "from sklearn.model_selection import GridSearchCV\n",
    "from sklearn.linear_model import Ridge, RidgeCV\n",
    "\n",
    "#create parameter grid to select the best estimator\n",
    "param_grid = [\n",
    "    {'alpha': [0.1,0.5,1,5,10,20,30,40,50,100,150,200]}\n",
    "  ]\n",
    "\n",
    "#fit the model\n",
    "ridge = Ridge()\n",
    "grid_search = GridSearchCV(ridge, param_grid, cv = 5)\n",
    "grid_search.fit(X_train, y_train)"
   ]
  },
  {
   "cell_type": "code",
   "execution_count": 17,
   "id": "96a991c6",
   "metadata": {},
   "outputs": [
    {
     "data": {
      "text/plain": [
       "Ridge(alpha=100)"
      ]
     },
     "execution_count": 17,
     "metadata": {},
     "output_type": "execute_result"
    }
   ],
   "source": [
    "#get the best estimator\n",
    "grid_search.best_estimator_"
   ]
  },
  {
   "cell_type": "code",
   "execution_count": 18,
   "id": "376d1075",
   "metadata": {},
   "outputs": [
    {
     "name": "stdout",
     "output_type": "stream",
     "text": [
      "MSE Train:  0.518\n",
      "MSE Test:  0.544\n",
      "R^2 Train:  0.611\n",
      "R^2 Test:  0.592\n"
     ]
    }
   ],
   "source": [
    "# Ridge regression\n",
    "#The result does not change even if we increase the value of alpha which means that there are no outliers to work with.\n",
    "ridge = Ridge(alpha=100) # \n",
    "ridge.fit(X_train, y_train)\n",
    "\n",
    "#predict the model\n",
    "y_train_pred = ridge.predict(X_train)\n",
    "y_test_pred = ridge.predict(X_test)\n",
    "\n",
    "#get the results\n",
    "regression_metrics(y_train, y_train_pred, y_test, y_test_pred)"
   ]
  },
  {
   "cell_type": "code",
   "execution_count": 19,
   "id": "dccc32c4",
   "metadata": {},
   "outputs": [
    {
     "data": {
      "text/plain": [
       "array([ 4.35083963e-01,  9.41325495e-03, -9.57566904e-02,  5.27853949e-01,\n",
       "       -8.37548183e-06, -4.16835742e-03, -4.06373703e-01, -4.19104255e-01])"
      ]
     },
     "execution_count": 19,
     "metadata": {},
     "output_type": "execute_result"
    }
   ],
   "source": [
    "ridge.coef_"
   ]
  },
  {
   "cell_type": "code",
   "execution_count": 20,
   "id": "f092c53a",
   "metadata": {},
   "outputs": [
    {
     "data": {
      "image/png": "[encoded data removed]",
      "text/plain": [
       "<Figure size 432x288 with 1 Axes>"
      ]
     },
     "metadata": {
      "needs_background": "light"
     },
     "output_type": "display_data"
    }
   ],
   "source": [
    "# shrink weights\n",
    "n_alphas = 2000\n",
    "alphas = np.logspace(-3, 2, n_alphas)\n",
    "\n",
    "coefs = []\n",
    "for a in alphas:\n",
    "    ridge = Ridge(alpha=a, fit_intercept=False)\n",
    "    ridge.fit(X_train, y_train)\n",
    "    coefs.append(ridge.coef_)\n",
    "\n",
    "# Display results\n",
    "ax = plt.gca()\n",
    "ax.plot(alphas, coefs)\n",
    "ax.set_xscale('log')\n",
    "ax.set_xlim(ax.get_xlim()[::-1])  # reverse axis\n",
    "plt.xlabel('alpha')\n",
    "plt.ylabel('weights')\n",
    "plt.title('Ridge coefficients as a function of the regularization')\n",
    "plt.axis('tight')\n",
    "plt.show()"
   ]
  },
  {
   "cell_type": "code",
   "execution_count": 21,
   "id": "bd3b4ebc",
   "metadata": {},
   "outputs": [
    {
     "data": {
      "text/plain": [
       "GridSearchCV(cv=5, estimator=Lasso(),\n",
       "             param_grid=[{'alpha': [0.1, 0.5, 1, 5, 10, 20, 30, 40, 50, 100,\n",
       "                                    150, 200]}])"
      ]
     },
     "execution_count": 21,
     "metadata": {},
     "output_type": "execute_result"
    }
   ],
   "source": [
    "#Lasso regularization\n",
    "from sklearn.linear_model import Lasso, LassoCV\n",
    "\n",
    "#fit the model\n",
    "lasso = Lasso()\n",
    "grid_search = GridSearchCV(lasso, param_grid, cv = 5)\n",
    "grid_search.fit(X_train, y_train)"
   ]
  },
  {
   "cell_type": "code",
   "execution_count": 22,
   "id": "c07d6d60",
   "metadata": {},
   "outputs": [
    {
     "data": {
      "text/plain": [
       "Lasso(alpha=0.1)"
      ]
     },
     "execution_count": 22,
     "metadata": {},
     "output_type": "execute_result"
    }
   ],
   "source": [
    "#get the best estimator\n",
    "grid_search.best_estimator_"
   ]
  },
  {
   "cell_type": "code",
   "execution_count": 23,
   "id": "ce33bdd6",
   "metadata": {},
   "outputs": [
    {
     "name": "stdout",
     "output_type": "stream",
     "text": [
      "MSE Train:  0.598\n",
      "MSE Test:  0.624\n",
      "R^2 Train:  0.551\n",
      "R^2 Test:  0.532\n"
     ]
    }
   ],
   "source": [
    "# Lasso\n",
    "lasso = Lasso(alpha=0.1)\n",
    "lasso.fit(X_train, y_train)\n",
    "\n",
    "#predict the model\n",
    "y_train_pred = lasso.predict(X_train)\n",
    "y_test_pred = lasso.predict(X_test)\n",
    "\n",
    "#get the results\n",
    "regression_metrics(y_train, y_train_pred, y_test, y_test_pred)"
   ]
  },
  {
   "cell_type": "code",
   "execution_count": 24,
   "id": "c2639145",
   "metadata": {},
   "outputs": [
    {
     "data": {
      "text/plain": [
       "GridSearchCV(cv=5, estimator=ElasticNet(),\n",
       "             param_grid=[{'alpha': [0.1, 0.5, 1, 5, 10, 20, 30, 40, 50, 100,\n",
       "                                    150, 200]}])"
      ]
     },
     "execution_count": 24,
     "metadata": {},
     "output_type": "execute_result"
    }
   ],
   "source": [
    "#Elastic net regularization\n",
    "from sklearn.linear_model import ElasticNet\n",
    "\n",
    "#fit the model\n",
    "elanet = ElasticNet()\n",
    "grid_search = GridSearchCV(elanet, param_grid, cv = 5)\n",
    "grid_search.fit(X_train, y_train)"
   ]
  },
  {
   "cell_type": "code",
   "execution_count": 25,
   "id": "20945772",
   "metadata": {},
   "outputs": [
    {
     "data": {
      "text/plain": [
       "ElasticNet(alpha=0.1)"
      ]
     },
     "execution_count": 25,
     "metadata": {},
     "output_type": "execute_result"
    }
   ],
   "source": [
    "#get the best estimator\n",
    "grid_search.best_estimator_"
   ]
  },
  {
   "cell_type": "code",
   "execution_count": 26,
   "id": "2df80ef6",
   "metadata": {},
   "outputs": [
    {
     "name": "stdout",
     "output_type": "stream",
     "text": [
      "MSE Train:  0.598\n",
      "MSE Test:  0.624\n",
      "R^2 Train:  0.551\n",
      "R^2 Test:  0.532\n"
     ]
    }
   ],
   "source": [
    "# Elastic Net\n",
    "\n",
    "elanet = ElasticNet(alpha=0.1, l1_ratio=1)\n",
    "elanet.fit(X_train, y_train)\n",
    "\n",
    "#predict the model\n",
    "y_train_pred = elanet.predict(X_train)\n",
    "y_test_pred = elanet.predict(X_test)\n",
    "\n",
    "#get the results\n",
    "regression_metrics(y_train, y_train_pred, y_test, y_test_pred)"
   ]
  },
  {
   "cell_type": "code",
   "execution_count": 27,
   "id": "208b5224",
   "metadata": {},
   "outputs": [
    {
     "data": {
      "text/plain": [
       "GridSearchCV(cv=5, estimator=DecisionTreeRegressor(random_state=0),\n",
       "             param_grid=[{'max_depth': [2, 4, 6, 8, 10, 12, 14, 16, 18, 20]}])"
      ]
     },
     "execution_count": 27,
     "metadata": {},
     "output_type": "execute_result"
    }
   ],
   "source": [
    "from sklearn.tree import DecisionTreeRegressor as DTR\n",
    "\n",
    "#create parameter grid to select the best estimator\n",
    "param_grid = [\n",
    "    {'max_depth': [2, 4, 6, 8, 10, 12, 14, 16, 18, 20]}\n",
    "  ]\n",
    "\n",
    "#fit the model\n",
    "dtr = DTR(criterion = 'squared_error', random_state = 0)\n",
    "grid_search = GridSearchCV(dtr, param_grid, cv = 5)\n",
    "grid_search.fit(X_train, y_train)"
   ]
  },
  {
   "cell_type": "code",
   "execution_count": 28,
   "id": "c00005ff",
   "metadata": {},
   "outputs": [
    {
     "data": {
      "text/plain": [
       "DecisionTreeRegressor(max_depth=8, random_state=0)"
      ]
     },
     "execution_count": 28,
     "metadata": {},
     "output_type": "execute_result"
    }
   ],
   "source": [
    "#get the best estimator\n",
    "grid_search.best_estimator_"
   ]
  },
  {
   "cell_type": "code",
   "execution_count": 29,
   "id": "45dfac64",
   "metadata": {},
   "outputs": [
    {
     "name": "stdout",
     "output_type": "stream",
     "text": [
      "Results of decision tree:\n",
      "MSE Train:  0.325\n",
      "MSE Test:  0.443\n",
      "R^2 Train:  0.756\n",
      "R^2 Test:  0.667\n"
     ]
    }
   ],
   "source": [
    "# Decision tree example\n",
    "\n",
    "dtr = DTR(criterion = 'squared_error', max_depth = 8, random_state = 0) \n",
    "#other input parameters of decision tree regressor: \n",
    "# max_depth: max depth of the tree; deep tree results in overfitting\n",
    "# min_samples_leaf: min # of samples for leaf nodes; increase this number can solve the overfitting problem\n",
    "\n",
    "#fit the model\n",
    "dtr.fit(X_train, y_train)\n",
    "\n",
    "#predict the model\n",
    "y_train_pred = dtr.predict(X_train)\n",
    "y_test_pred = dtr.predict(X_test)\n",
    "print('Results of decision tree:')\n",
    "\n",
    "#Overfitting because training performance is much better than testing performance when using default max_depth\n",
    "#So I used max_depth = 8\n",
    "#get the results\n",
    "regression_metrics(y_train, y_train_pred, y_test, y_test_pred)"
   ]
  },
  {
   "cell_type": "code",
   "execution_count": 30,
   "id": "ba6929f3",
   "metadata": {},
   "outputs": [
    {
     "data": {
      "text/plain": [
       "array([0.66981416, 0.03898021, 0.03033819, 0.00831685, 0.00707675,\n",
       "       0.13817991, 0.05241973, 0.0548742 ])"
      ]
     },
     "execution_count": 30,
     "metadata": {},
     "output_type": "execute_result"
    }
   ],
   "source": [
    "#atrributes\n",
    "dtr.feature_importances_"
   ]
  },
  {
   "cell_type": "code",
   "execution_count": 31,
   "id": "d602ba30",
   "metadata": {},
   "outputs": [
    {
     "name": "stdout",
     "output_type": "stream",
     "text": [
      "depth of the tree: 8\n",
      "the number of nodes: 445\n"
     ]
    }
   ],
   "source": [
    "#Print the depth and nodes\n",
    "print('depth of the tree:', dtr.tree_.max_depth)\n",
    "print('the number of nodes:', dtr.tree_.node_count)"
   ]
  },
  {
   "cell_type": "code",
   "execution_count": 32,
   "id": "7c3b8a34",
   "metadata": {},
   "outputs": [
    {
     "data": {
      "text/plain": [
       "GridSearchCV(cv=5, estimator=RandomForestRegressor(random_state=0),\n",
       "             param_grid={'max_depth': [2, 3, 4, 5, 6, 7, 8],\n",
       "                         'max_features': [2, 3, 4, 5, 6, 7, 8],\n",
       "                         'n_estimators': [10, 11, 12, 13, 14, 15]})"
      ]
     },
     "execution_count": 32,
     "metadata": {},
     "output_type": "execute_result"
    }
   ],
   "source": [
    "#Random Forest\n",
    "from sklearn.ensemble import RandomForestRegressor as RFR\n",
    "\n",
    "#create parameter grid to select the best estimator\n",
    "param_grid={\n",
    "    'n_estimators':[10,11,12,13,14,15],'max_features':[2,3,4,5,6,7,8],\n",
    "    'max_depth':[2,3,4,5,6,7,8],\n",
    "}\n",
    "\n",
    "#fit the model\n",
    "rf = RFR(criterion = 'squared_error', random_state = 0)\n",
    "grid_search=GridSearchCV(rf, param_grid, cv = 5)\n",
    "grid_search.fit(X_train, y_train)"
   ]
  },
  {
   "cell_type": "code",
   "execution_count": 33,
   "id": "200c2d47",
   "metadata": {},
   "outputs": [
    {
     "data": {
      "text/plain": [
       "RandomForestRegressor(max_depth=8, max_features=3, n_estimators=13,\n",
       "                      random_state=0)"
      ]
     },
     "execution_count": 33,
     "metadata": {},
     "output_type": "execute_result"
    }
   ],
   "source": [
    "grid_search.best_estimator_"
   ]
  },
  {
   "cell_type": "code",
   "execution_count": 34,
   "id": "5217be18",
   "metadata": {},
   "outputs": [
    {
     "name": "stdout",
     "output_type": "stream",
     "text": [
      "Results:\n",
      "MSE Train:  0.264\n",
      "MSE Test:  0.333\n",
      "R^2 Train:  0.802\n",
      "R^2 Test:  0.751\n"
     ]
    }
   ],
   "source": [
    "# Random forests\n",
    "#max_feature = sqrt (n_features)\n",
    "rf = RFR(criterion = 'squared_error', n_estimators = 13, max_features = 3, max_depth = 8, random_state = 0)\n",
    "#other arguments;\n",
    "#criterion, min_sample_leaf, random_state\n",
    "#max_features: specify any number <= total # of features; adaptive way to setl sqrt (n_features) log2\n",
    "\n",
    "rf.fit(X_train, y_train)\n",
    "\n",
    "#predict the model\n",
    "y_train_pred = rf.predict(X_train)\n",
    "y_test_pred = rf.predict(X_test)\n",
    "print('Results:')\n",
    "\n",
    "#get the results\n",
    "regression_metrics(y_train, y_train_pred, y_test, y_test_pred)\n"
   ]
  },
  {
   "cell_type": "code",
   "execution_count": null,
   "id": "a1720ffe",
   "metadata": {},
   "outputs": [],
   "source": []
  }
 ],
 "metadata": {
  "kernelspec": {
   "display_name": "Python 3 (ipykernel)",
   "language": "python",
   "name": "python3"
  },
  "language_info": {
   "codemirror_mode": {
    "name": "ipython",
    "version": 3
   },
   "file_extension": ".py",
   "mimetype": "text/x-python",
   "name": "python",
   "nbconvert_exporter": "python",
   "pygments_lexer": "ipython3",
   "version": "3.9.12"
  }
 },
 "nbformat": 4,
 "nbformat_minor": 5
}
